{
 "cells": [
  {
   "cell_type": "code",
   "execution_count": null,
   "id": "daa03435",
   "metadata": {
    "_cell_guid": "b1076dfc-b9ad-4769-8c92-a6c4dae69d19",
    "_uuid": "8f2839f25d086af736a60e9eeb907d3b93b6e0e5",
    "execution": {
     "iopub.execute_input": "2024-06-05T21:19:23.880231Z",
     "iopub.status.busy": "2024-06-05T21:19:23.879795Z",
     "iopub.status.idle": "2024-06-05T21:19:41.932542Z",
     "shell.execute_reply": "2024-06-05T21:19:41.930823Z"
    },
    "papermill": {
     "duration": 18.063074,
     "end_time": "2024-06-05T21:19:41.935516",
     "exception": false,
     "start_time": "2024-06-05T21:19:23.872442",
     "status": "completed"
    },
    "tags": []
   },
   "outputs": [],
   "source": [
    "!pip install ultralytics"
   ]
  },
  {
   "cell_type": "code",
   "execution_count": null,
   "id": "d402944c",
   "metadata": {
    "execution": {
     "iopub.execute_input": "2024-06-05T21:19:41.950421Z",
     "iopub.status.busy": "2024-06-05T21:19:41.949996Z",
     "iopub.status.idle": "2024-06-05T21:19:46.679669Z",
     "shell.execute_reply": "2024-06-05T21:19:46.678277Z"
    },
    "papermill": {
     "duration": 4.740355,
     "end_time": "2024-06-05T21:19:46.682489",
     "exception": false,
     "start_time": "2024-06-05T21:19:41.942134",
     "status": "completed"
    },
    "tags": []
   },
   "outputs": [],
   "source": [
    "import os \n",
    "import cv2 \n",
    "import numpy as np \n",
    "from ultralytics import YOLO, settings \n",
    "from IPython.display import display, Image \n",
    "import matplotlib.pyplot as plt\n",
    "\n",
    "print(settings)\n"
   ]
  },
  {
   "cell_type": "code",
   "execution_count": null,
   "id": "10fd60b2",
   "metadata": {
    "execution": {
     "iopub.execute_input": "2024-06-05T21:19:46.697808Z",
     "iopub.status.busy": "2024-06-05T21:19:46.697211Z",
     "iopub.status.idle": "2024-06-05T21:19:46.702905Z",
     "shell.execute_reply": "2024-06-05T21:19:46.701792Z"
    },
    "papermill": {
     "duration": 0.016402,
     "end_time": "2024-06-05T21:19:46.705443",
     "exception": false,
     "start_time": "2024-06-05T21:19:46.689041",
     "status": "completed"
    },
    "tags": []
   },
   "outputs": [],
   "source": [
    "root_dir = '/kaggle/input/vehicle-detection-image-dataset/No_Apply_Grayscale/No_Apply_Grayscale/Vehicles_Detection.v8i.yolov8'\n",
    "\n",
    "train_img_sample = root_dir + '/train/images/frame_0087_jpg.rf.6911e25ecb00139750616b606571e714.jpg'\n",
    "test_img_sample = root_dir + '/test/images/frame_1004_jpg.rf.a6f441255e54620ea11fb3cf34fc0a97.jpg'"
   ]
  },
  {
   "cell_type": "code",
   "execution_count": null,
   "id": "9a0beb03",
   "metadata": {
    "execution": {
     "iopub.execute_input": "2024-06-05T21:19:46.720151Z",
     "iopub.status.busy": "2024-06-05T21:19:46.719749Z",
     "iopub.status.idle": "2024-06-05T21:19:47.237657Z",
     "shell.execute_reply": "2024-06-05T21:19:47.236469Z"
    },
    "papermill": {
     "duration": 0.532854,
     "end_time": "2024-06-05T21:19:47.244787",
     "exception": false,
     "start_time": "2024-06-05T21:19:46.711933",
     "status": "completed"
    },
    "tags": []
   },
   "outputs": [],
   "source": [
    "train_img = cv2.imread(os.path.join(train_img_sample))\n",
    "test_img = cv2.imread(os.path.join(test_img_sample))\n",
    "\n",
    "plt.figure(figsize=(10,5))\n",
    "plt.subplot(1,2,1)\n",
    "plt.imshow(train_img)\n",
    "plt.axis('off')\n",
    "plt.subplot(1,2,2)\n",
    "plt.imshow(test_img)\n",
    "plt.axis('off')\n",
    "\n",
    "plt.show()"
   ]
  },
  {
   "cell_type": "code",
   "execution_count": null,
   "id": "37023d44",
   "metadata": {
    "execution": {
     "iopub.execute_input": "2024-06-05T21:19:47.272468Z",
     "iopub.status.busy": "2024-06-05T21:19:47.272088Z",
     "iopub.status.idle": "2024-06-05T21:19:50.009009Z",
     "shell.execute_reply": "2024-06-05T21:19:50.007487Z"
    },
    "papermill": {
     "duration": 2.754074,
     "end_time": "2024-06-05T21:19:50.011956",
     "exception": false,
     "start_time": "2024-06-05T21:19:47.257882",
     "status": "completed"
    },
    "tags": []
   },
   "outputs": [],
   "source": [
    "!wandb disabled"
   ]
  },
  {
   "cell_type": "code",
   "execution_count": null,
   "id": "d609a562",
   "metadata": {
    "execution": {
     "iopub.execute_input": "2024-06-05T21:19:50.038050Z",
     "iopub.status.busy": "2024-06-05T21:19:50.037566Z",
     "iopub.status.idle": "2024-06-06T02:36:01.841138Z",
     "shell.execute_reply": "2024-06-06T02:36:01.839829Z"
    },
    "papermill": {
     "duration": 18971.819997,
     "end_time": "2024-06-06T02:36:01.844027",
     "exception": false,
     "start_time": "2024-06-05T21:19:50.024030",
     "status": "completed"
    },
    "tags": []
   },
   "outputs": [],
   "source": [
    "model = YOLO(\"yolov8n.yaml\")\n",
    "results = model.train(data = os.path.join(root_dir, 'data.yaml'), epochs = 200)\n"
   ]
  },
  {
   "cell_type": "code",
   "execution_count": null,
   "id": "83f7d484",
   "metadata": {
    "execution": {
     "iopub.execute_input": "2024-06-06T02:36:02.774181Z",
     "iopub.status.busy": "2024-06-06T02:36:02.773271Z",
     "iopub.status.idle": "2024-06-06T02:36:02.800973Z",
     "shell.execute_reply": "2024-06-06T02:36:02.799625Z"
    },
    "papermill": {
     "duration": 0.497535,
     "end_time": "2024-06-06T02:36:02.806574",
     "exception": false,
     "start_time": "2024-06-06T02:36:02.309039",
     "status": "completed"
    },
    "tags": []
   },
   "outputs": [],
   "source": [
    "print(results)"
   ]
  },
  {
   "cell_type": "code",
   "execution_count": null,
   "id": "7cc66a7e",
   "metadata": {
    "execution": {
     "iopub.execute_input": "2024-06-06T02:36:03.735261Z",
     "iopub.status.busy": "2024-06-06T02:36:03.734859Z",
     "iopub.status.idle": "2024-06-06T02:36:03.742337Z",
     "shell.execute_reply": "2024-06-06T02:36:03.740939Z"
    },
    "papermill": {
     "duration": 0.473811,
     "end_time": "2024-06-06T02:36:03.744959",
     "exception": false,
     "start_time": "2024-06-06T02:36:03.271148",
     "status": "completed"
    },
    "tags": []
   },
   "outputs": [],
   "source": [
    "def detection_result(images):\n",
    "    output = model(images)\n",
    "    \n",
    "    # 결과 시각화 \n",
    "    for i, r in enumerate(output):\n",
    "        # 결과 이미지 플롯(RGB 순서의 numpy 배열)\n",
    "        im_bgr = r.plot()\n",
    "        \n",
    "        # opencv 이밎미 표시 BGR\n",
    "        im_rgb = cv2.cvtColor(im_bgr, cv2.COLOR_BGR2RGB)\n",
    "        \n",
    "        plt.axis('off')\n",
    "        plt.imshow(im_rgb)\n",
    "        plt.show()\n",
    "        \n"
   ]
  },
  {
   "cell_type": "code",
   "execution_count": null,
   "id": "1da3e0f9",
   "metadata": {
    "execution": {
     "iopub.execute_input": "2024-06-06T02:36:04.672112Z",
     "iopub.status.busy": "2024-06-06T02:36:04.671667Z",
     "iopub.status.idle": "2024-06-06T02:36:11.930260Z",
     "shell.execute_reply": "2024-06-06T02:36:11.928957Z"
    },
    "papermill": {
     "duration": 7.724901,
     "end_time": "2024-06-06T02:36:11.935812",
     "exception": false,
     "start_time": "2024-06-06T02:36:04.210911",
     "status": "completed"
    },
    "tags": []
   },
   "outputs": [],
   "source": [
    "# 테스트 이미지 경로 \n",
    "test_image_paths = [os.path.join(root_dir, 'test/images/', img) for img in os.listdir(os.path.join(root_dir, 'test/images/')) if img.endswith('.jpg')]\n",
    "\n",
    "detection_result(test_image_paths)"
   ]
  },
  {
   "cell_type": "code",
   "execution_count": null,
   "id": "cb0e0b02",
   "metadata": {
    "execution": {
     "iopub.execute_input": "2024-06-06T02:36:13.004307Z",
     "iopub.status.busy": "2024-06-06T02:36:13.003852Z",
     "iopub.status.idle": "2024-06-06T02:40:29.514149Z",
     "shell.execute_reply": "2024-06-06T02:40:29.512280Z"
    },
    "papermill": {
     "duration": 257.045692,
     "end_time": "2024-06-06T02:40:29.517208",
     "exception": false,
     "start_time": "2024-06-06T02:36:12.471516",
     "status": "completed"
    },
    "tags": []
   },
   "outputs": [],
   "source": [
    "!yolo track model=\"/kaggle/working/runs/detect/train/weights/best.pt\" source=\"/kaggle/input/vehicle-detection-image-dataset/Sample_Video_HighQuality.mp4\" show=True\n",
    "\n"
   ]
  },
  {
   "cell_type": "code",
   "execution_count": null,
   "id": "3d929523",
   "metadata": {
    "papermill": {
     "duration": 0.626379,
     "end_time": "2024-06-06T02:40:30.795566",
     "exception": false,
     "start_time": "2024-06-06T02:40:30.169187",
     "status": "completed"
    },
    "tags": []
   },
   "outputs": [],
   "source": []
  }
 ],
 "metadata": {
  "kaggle": {
   "accelerator": "none",
   "dataSources": [
    {
     "datasetId": 4733451,
     "sourceId": 8073495,
     "sourceType": "datasetVersion"
    }
   ],
   "dockerImageVersionId": 30732,
   "isGpuEnabled": false,
   "isInternetEnabled": true,
   "language": "python",
   "sourceType": "notebook"
  },
  "kernelspec": {
   "display_name": "Python 3",
   "language": "python",
   "name": "python3"
  },
  "language_info": {
   "codemirror_mode": {
    "name": "ipython",
    "version": 3
   },
   "file_extension": ".py",
   "mimetype": "text/x-python",
   "name": "python",
   "nbconvert_exporter": "python",
   "pygments_lexer": "ipython3",
   "version": "3.10.13"
  },
  "papermill": {
   "default_parameters": {},
   "duration": 19274.627981,
   "end_time": "2024-06-06T02:40:35.256308",
   "environment_variables": {},
   "exception": null,
   "input_path": "__notebook__.ipynb",
   "output_path": "__notebook__.ipynb",
   "parameters": {},
   "start_time": "2024-06-05T21:19:20.628327",
   "version": "2.5.0"
  }
 },
 "nbformat": 4,
 "nbformat_minor": 5
}
